{
  "nbformat": 4,
  "nbformat_minor": 0,
  "metadata": {
    "colab": {
      "provenance": [],
      "authorship_tag": "ABX9TyN9BJbLlenDZNPediOeFYnD",
      "include_colab_link": true
    },
    "kernelspec": {
      "name": "python3",
      "display_name": "Python 3"
    },
    "language_info": {
      "name": "python"
    }
  },
  "cells": [
    {
      "cell_type": "markdown",
      "metadata": {
        "id": "view-in-github",
        "colab_type": "text"
      },
      "source": [
        "<a href=\"https://colab.research.google.com/github/manish-jsx/MachineLearingCohort/blob/main/03_Backpropagation_Algorithm.ipynb\" target=\"_parent\"><img src=\"https://colab.research.google.com/assets/colab-badge.svg\" alt=\"Open In Colab\"/></a>"
      ]
    },
    {
      "cell_type": "code",
      "execution_count": null,
      "metadata": {
        "id": "6rl3Bh6DQPOW"
      },
      "outputs": [],
      "source": [
        "# Importing necessary libraries\n",
        "import numpy as np\n",
        "\n",
        "class SimpleNeuralNetwork:\n",
        "    def __init__(self, input_size, hidden_size, output_size, learning_rate=0.1):\n",
        "        self.weights1 = np.random.rand(input_size, hidden_size)\n",
        "        self.weights2 = np.random.rand(hidden_size, output_size)\n",
        "        self.bias1 = np.random.rand(hidden_size)\n",
        "        self.bias2 = np.random.rand(output_size)\n",
        "        self.learning_rate = learning_rate\n",
        "\n",
        "    def forward(self, X):\n",
        "        self.z1 = np.dot(X, self.weights1) + self.bias1\n",
        "        self.a1 = self.sigmoid(self.z1)\n",
        "        self.z2 = np.dot(self.a1, self.weights2) + self.bias2\n",
        "        self.output = self.sigmoid(self.z2)\n",
        "        return self.output\n",
        "\n",
        "    def sigmoid(self, x):\n",
        "        return 1 / (1 + np.exp(-x))\n",
        "\n",
        "    def sigmoid_derivative(self, x):\n",
        "        return x * (1 - x)\n",
        "\n",
        "    def backward(self, X, y, output):\n",
        "        self.error = y - output\n",
        "        self.dz2 = self.error * self.sigmoid_derivative(output)\n",
        "        self.dw2 = np.dot(self.a1.T, self.dz2)\n",
        "        self.db2 = np.sum(self.dz2, axis=0)\n",
        "\n",
        "        self.dz1 = np.dot(self.dz2, self.weights2.T) * self.sigmoid_derivative(self.a1)\n",
        "        self.dw1 = np.dot(X.T, self.dz1)\n",
        "        self.db1 = np.sum(self.dz1, axis=0)\n",
        "\n",
        "        self.weights1 += self.dw1 * self.learning_rate\n",
        "        self.bias1 += self.db1 * self.learning_rate\n",
        "        self.weights2 += self.dw2 * self.learning_rate\n",
        "        self.bias2 += self.db2 * self.learning_rate\n",
        "\n",
        "    def train(self, X, y, epochs):\n",
        "        for _ in range(epochs):\n",
        "            output = self.forward(X)\n",
        "            self.backward(X, y, output)\n",
        "\n",
        "# Testing backpropagation\n",
        "nn = SimpleNeuralNetwork(input_size=3, hidden_size=5, output_size=2)\n",
        "X = np.array([[1, 2, 3]])\n",
        "y = np.array([[0, 1]])\n",
        "nn.train(X, y, epochs=1000)\n",
        "print(\"Output after training:\", nn.forward(X))\n",
        "\n",
        "\n"
      ]
    }
  ]
}