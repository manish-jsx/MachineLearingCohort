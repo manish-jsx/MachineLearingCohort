{
  "nbformat": 4,
  "nbformat_minor": 0,
  "metadata": {
    "colab": {
      "provenance": [],
      "authorship_tag": "ABX9TyPenEA5HimYH8Xv+/X6I+fA",
      "include_colab_link": true
    },
    "kernelspec": {
      "name": "python3",
      "display_name": "Python 3"
    },
    "language_info": {
      "name": "python"
    }
  },
  "cells": [
    {
      "cell_type": "markdown",
      "metadata": {
        "id": "view-in-github",
        "colab_type": "text"
      },
      "source": [
        "<a href=\"https://colab.research.google.com/github/manish-jsx/MachineLearingCohort/blob/main/01_Introduction_to_Neural_Networks.ipynb\" target=\"_parent\"><img src=\"https://colab.research.google.com/assets/colab-badge.svg\" alt=\"Open In Colab\"/></a>"
      ]
    },
    {
      "cell_type": "code",
      "execution_count": null,
      "metadata": {
        "id": "6rl3Bh6DQPOW"
      },
      "outputs": [],
      "source": [
        "# Importing necessary libraries\n",
        "import numpy as np\n",
        "\n",
        "# Define a simple feedforward neural network class\n",
        "class SimpleNeuralNetwork:\n",
        "    def __init__(self, input_size, hidden_size, output_size):\n",
        "        self.weights1 = np.random.rand(input_size, hidden_size)\n",
        "        self.weights2 = np.random.rand(hidden_size, output_size)\n",
        "        self.bias1 = np.random.rand(hidden_size)\n",
        "        self.bias2 = np.random.rand(output_size)\n",
        "\n",
        "    def forward(self, X):\n",
        "        self.z1 = np.dot(X, self.weights1) + self.bias1\n",
        "        self.a1 = self.sigmoid(self.z1)\n",
        "        self.z2 = np.dot(self.a1, self.weights2) + self.bias2\n",
        "        self.output = self.sigmoid(self.z2)\n",
        "        return self.output\n",
        "\n",
        "    def sigmoid(self, x):\n",
        "        return 1 / (1 + np.exp(-x))\n",
        "\n",
        "# Testing the neural network\n",
        "nn = SimpleNeuralNetwork(input_size=3, hidden_size=5, output_size=2)\n",
        "X = np.array([1, 2, 3])\n",
        "print(\"Output:\", nn.forward(X))\n"
      ]
    }
  ]
}